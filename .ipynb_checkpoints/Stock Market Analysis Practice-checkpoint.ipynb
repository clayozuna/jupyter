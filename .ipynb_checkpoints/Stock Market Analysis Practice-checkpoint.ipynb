{
 "cells": [
  {
   "cell_type": "code",
   "execution_count": 6,
   "metadata": {},
   "outputs": [],
   "source": [
    "import numpy as np # Linear Algebra\n",
    "import pandas as pd # CSV file I/0 and dataframe based data processing\n",
    "\n",
    "import requests # for http requests\n",
    "from bs4 import BeautifulSoup # for html parsing and scraping\n",
    "import bs4\n",
    "\n",
    "# Not quite sure what these do\n",
    "from fastnumbers import isfloat\n",
    "from fastnumbers import fast_float\n",
    "from multiprocessing.dummy import Pool as ThreadPool\n",
    "\n",
    "# This is for plotting\n",
    "import matplotlib.pyplot as plt\n",
    "import seaborn as sns\n",
    "import json\n",
    "from tidylib import tidy_document # for tidying incorrect html\n",
    "\n",
    "# Not quite sure about these either\n",
    "sns.set_style('whitegrid')\n",
    "%matplotlib inline\n",
    "from IPython.core.interactiveshell import InteractiveShell\n",
    "InteractiveShell.ast_node_interactivity = \"all\""
   ]
  },
  {
   "cell_type": "code",
   "execution_count": 7,
   "metadata": {},
   "outputs": [],
   "source": [
    "# Converts strings to numbers if can be converted. '%' and ',' included\n",
    "def ffloat(string):\n",
    "    if string is None:\n",
    "        return np.nan\n",
    "    if type(string)==float or type(string)==np.float64:\n",
    "        return string\n",
    "    if type(string)==int or type(string)==np.int64:\n",
    "        return string\n",
    "    return fast_float(string.split(\" \")[0].replace(',','').replace('%', ''), default=np.nan)\n",
    "\n",
    "# Converts to a list of strings\n",
    "def ffloat_list(string_list):\n",
    "    return list(map(ffloat,string_list))\n",
    "\n",
    "# Remove multiple spaces from within string\n",
    "def remove_multiple_spaces(string):\n",
    "    if type(string)==str:\n",
    "        return ' '.join(string.split())\n",
    "    return string"
   ]
  },
  {
   "cell_type": "code",
   "execution_count": 8,
   "metadata": {},
   "outputs": [
    {
     "data": {
      "text/plain": [
       "200"
      ]
     },
     "execution_count": 8,
     "metadata": {},
     "output_type": "execute_result"
    },
    {
     "data": {
      "text/plain": [
       "b'<!doctype html>\\n<html>\\n<head>\\n    <title>Example Domain</title>\\n\\n    <meta charset=\"utf-8\" />\\n    <meta http-equiv=\"Content-type\" content=\"text/html; charset=utf-8\" />\\n    <meta name=\"viewport\" content=\"width=device-width, initial-scale=1\" />\\n    <style type=\"text/css\">\\n    body {\\n        background-color: #f0f0f2;\\n        margin: 0;\\n        padding: 0;\\n        font-family: -apple-system, system-ui, BlinkMacSystemFont, \"Segoe UI\", \"Open Sans\", \"Helvetica Neue\", Helvetica, Arial, sans-serif;\\n        \\n    }\\n    div {\\n        width: 600px;\\n        margin: 5em auto;\\n        padding: 2em;\\n        background-color: #fdfdff;\\n        border-radius: 0.5em;\\n        box-shadow: 2px 3px 7px 2px rgba(0,0,0,0.02);\\n    }\\n    a:link, a:visited {\\n        color: #38488f;\\n        text-decoration: none;\\n    }\\n    @media (max-width: 700px) {\\n        div {\\n            margin: 0 auto;\\n            width: auto;\\n        }\\n    }\\n    </style>    \\n</head>\\n\\n<body>\\n<div>\\n    <h1>Example Domain</h1>\\n    <p>This domain is for use in illustrative examples in documents. You may use this\\n    domain in literature without prior coordination or asking for permission.</p>\\n    <p><a href=\"https://www.iana.org/domains/example\">More information...</a></p>\\n</div>\\n</body>\\n</html>\\n'"
      ]
     },
     "execution_count": 8,
     "metadata": {},
     "output_type": "execute_result"
    }
   ],
   "source": [
    "# Getting a page and its status\n",
    "response = requests.get('http://www.example.com/', timeout=240)\n",
    "response.status_code\n",
    "response.content"
   ]
  },
  {
   "cell_type": "code",
   "execution_count": 18,
   "metadata": {},
   "outputs": [
    {
     "data": {
      "text/plain": [
       "200"
      ]
     },
     "execution_count": 18,
     "metadata": {},
     "output_type": "execute_result"
    },
    {
     "data": {
      "text/plain": [
       "{'userId': 1,\n",
       " 'id': 1,\n",
       " 'title': 'sunt aut facere repellat provident occaecati excepturi optio reprehenderit',\n",
       " 'body': 'quia et suscipit\\nsuscipit recusandae consequuntur expedita et cum\\nreprehenderit molestiae ut ut quas totam\\nnostrum rerum est autem sunt rem eveniet architecto'}"
      ]
     },
     "execution_count": 18,
     "metadata": {},
     "output_type": "execute_result"
    },
    {
     "data": {
      "text/plain": [
       "dict_keys(['userId', 'id', 'title', 'body'])"
      ]
     },
     "execution_count": 18,
     "metadata": {},
     "output_type": "execute_result"
    }
   ],
   "source": [
    "url = \"https://jsonplaceholder.typicode.com/posts/1\"\n",
    "response = requests.get(url, timeout=240)\n",
    "response.status_code\n",
    "response.json()\n",
    "\n",
    "content = response.json()\n",
    "content.keys()"
   ]
  },
  {
   "cell_type": "code",
   "execution_count": 41,
   "metadata": {},
   "outputs": [
    {
     "data": {
      "text/html": [
       "<b>Rendered HTML</b>"
      ],
      "text/plain": [
       "<IPython.core.display.HTML object>"
      ]
     },
     "execution_count": 41,
     "metadata": {},
     "output_type": "execute_result"
    },
    {
     "data": {
      "text/html": [
       "<h1 class=\"pcstname\">Hero Motocorp Ltd.</h1>"
      ],
      "text/plain": [
       "<IPython.core.display.HTML object>"
      ]
     },
     "execution_count": 41,
     "metadata": {},
     "output_type": "execute_result"
    },
    {
     "data": {
      "text/html": [
       "<span class=\"span_price_change_prcnt grnpc1\">111.15 <em>(6.51%)</em></span>"
      ],
      "text/plain": [
       "<IPython.core.display.HTML object>"
      ]
     },
     "execution_count": 41,
     "metadata": {},
     "output_type": "execute_result"
    }
   ],
   "source": [
    "# Rendering HTML strings \n",
    "from IPython.core.display import HTML\n",
    "HTML(\"<b>Rendered HTML</b>\")\n",
    "\n",
    "#Gets the title of the stock\n",
    "response = requests.get(\"https://www.moneycontrol.com/india/stockpricequote/auto-2-3-wheelers/heromotocorp/HHM\", timeout=240)\n",
    "page_content = BeautifulSoup(response.content, \"html.parser\")\n",
    "HTML(str(page_content.find(\"h1\")))\n",
    "\n",
    "# Gets the price and (percentage change)?\n",
    "response = requests.get(\"https://www.moneycontrol.com/india/stockpricequote/auto-2-3-wheelers/heromotocorp/HHM\", timeout=240)\n",
    "content = BeautifulSoup(response.content, \"html.parser\")\n",
    "price_div = content.find(\"span\",attrs={\"class\":'span_price_change_prcnt grnpc1'})\n",
    "HTML(str(price_div))\n",
    "change = content.find(\"span\",attrs={\"class\":'span_price_arrow green_arwup'})\n"
   ]
  },
  {
   "cell_type": "code",
   "execution_count": 47,
   "metadata": {},
   "outputs": [],
   "source": [
    "def get_children(html_content):\n",
    "    return [item for item in html_content.children if type(item)==bs4.element.Tag or len(str(item).replace(\"\\n\",\"\").strip())>0]"
   ]
  },
  {
   "cell_type": "code",
   "execution_count": 42,
   "metadata": {},
   "outputs": [],
   "source": [
    "def get_table_simple(table,is_table_tag=True):\n",
    "    elems = table.find_all('tr') if is_table_tag else get_children(table)\n",
    "    table_data = list()\n",
    "    for row in elems:\n",
    "        \n",
    "        row_data = list()\n",
    "        row_elems = get_children(row)\n",
    "        for elem in row_elems:\n",
    "            text = elem.text.strip().replace(\"\\n\",\"\")\n",
    "            text = remove_multiple_spaces(text)\n",
    "            if len(text)==0:\n",
    "                continue\n",
    "            row_data.append(text)\n",
    "        table_data.append(row_data)\n",
    "    return table_data"
   ]
  },
  {
   "cell_type": "code",
   "execution_count": 48,
   "metadata": {},
   "outputs": [
    {
     "data": {
      "text/html": [
       "\n",
       "<html>\n",
       "<body>\n",
       "<div id=\"table\" class=\"FL\" style=\"width:210px; padding-right:10px\">\n",
       "    <div class=\"PA7 brdb\">\n",
       "        <div class=\"FL gL_10 UC\">MARKET CAP (Rs Cr)</div>\n",
       "        <div class=\"FR gD_12\">63,783.84</div>\n",
       "        <div class=\"CL\"></div>\n",
       "    </div>\n",
       "    <div class=\"PA7 brdb\">\n",
       "        <div class=\"FL gL_10 UC\">P/E</div>\n",
       "        <div class=\"FR gD_12\">17.27</div>\n",
       "        <div class=\"CL\"></div>\n",
       "    </div>\n",
       "    <div class=\"PA7 brdb\">\n",
       "        <div class=\"FL gL_10 UC\">BOOK VALUE (Rs)</div>\n",
       "        <div class=\"FR gD_12\">589.29</div>\n",
       "        <div class=\"CL\"></div>\n",
       "    </div>\n",
       "    <div class=\"PA7 brdb\">\n",
       "        <div class=\"FL gL_10 UC\">DIV (%)</div>\n",
       "        <div class=\"FR gD_12\">4750.00%</div>\n",
       "        <div class=\"CL\"></div>\n",
       "    </div>\n",
       "    <div class=\"PA7 brdb\">\n",
       "        <div class=\"FL gL_10 UC\">Market Lot</div>\n",
       "        <div class=\"FR gD_12\">1</div>\n",
       "        <div class=\"CL\"></div>\n",
       "    </div>\n",
       "    <div class=\"PA7 brdb\">\n",
       "        <div class=\"FL gL_10 UC\">INDUSTRY P/E</div>\n",
       "        <div class=\"FR gD_12\">19.99</div>\n",
       "        <div class=\"CL\"></div>\n",
       "    </div>\n",
       "</div>\n",
       "</body>\n",
       "</html>\n"
      ],
      "text/plain": [
       "<IPython.core.display.HTML object>"
      ]
     },
     "execution_count": 48,
     "metadata": {},
     "output_type": "execute_result"
    },
    {
     "data": {
      "text/plain": [
       "[['MARKET CAP (Rs Cr)', '63,783.84'],\n",
       " ['P/E', '17.27'],\n",
       " ['BOOK VALUE (Rs)', '589.29'],\n",
       " ['DIV (%)', '4750.00%'],\n",
       " ['Market Lot', '1'],\n",
       " ['INDUSTRY P/E', '19.99']]"
      ]
     },
     "execution_count": 48,
     "metadata": {},
     "output_type": "execute_result"
    }
   ],
   "source": [
    "html = '''\n",
    "<html>\n",
    "<body>\n",
    "<div id=\"table\" class=\"FL\" style=\"width:210px; padding-right:10px\">\n",
    "    <div class=\"PA7 brdb\">\n",
    "        <div class=\"FL gL_10 UC\">MARKET CAP (Rs Cr)</div>\n",
    "        <div class=\"FR gD_12\">63,783.84</div>\n",
    "        <div class=\"CL\"></div>\n",
    "    </div>\n",
    "    <div class=\"PA7 brdb\">\n",
    "        <div class=\"FL gL_10 UC\">P/E</div>\n",
    "        <div class=\"FR gD_12\">17.27</div>\n",
    "        <div class=\"CL\"></div>\n",
    "    </div>\n",
    "    <div class=\"PA7 brdb\">\n",
    "        <div class=\"FL gL_10 UC\">BOOK VALUE (Rs)</div>\n",
    "        <div class=\"FR gD_12\">589.29</div>\n",
    "        <div class=\"CL\"></div>\n",
    "    </div>\n",
    "    <div class=\"PA7 brdb\">\n",
    "        <div class=\"FL gL_10 UC\">DIV (%)</div>\n",
    "        <div class=\"FR gD_12\">4750.00%</div>\n",
    "        <div class=\"CL\"></div>\n",
    "    </div>\n",
    "    <div class=\"PA7 brdb\">\n",
    "        <div class=\"FL gL_10 UC\">Market Lot</div>\n",
    "        <div class=\"FR gD_12\">1</div>\n",
    "        <div class=\"CL\"></div>\n",
    "    </div>\n",
    "    <div class=\"PA7 brdb\">\n",
    "        <div class=\"FL gL_10 UC\">INDUSTRY P/E</div>\n",
    "        <div class=\"FR gD_12\">19.99</div>\n",
    "        <div class=\"CL\"></div>\n",
    "    </div>\n",
    "</div>\n",
    "</body>\n",
    "</html>\n",
    "'''\n",
    "HTML(html)\n",
    "content = BeautifulSoup(html,\"html.parser\")\n",
    "get_table_simple(content.find(\"div\",attrs={\"id\":\"table\"}),is_table_tag=False)"
   ]
  },
  {
   "cell_type": "code",
   "execution_count": null,
   "metadata": {},
   "outputs": [],
   "source": []
  },
  {
   "cell_type": "code",
   "execution_count": null,
   "metadata": {},
   "outputs": [],
   "source": []
  }
 ],
 "metadata": {
  "kernelspec": {
   "display_name": "Python 3",
   "language": "python",
   "name": "python3"
  },
  "language_info": {
   "codemirror_mode": {
    "name": "ipython",
    "version": 3
   },
   "file_extension": ".py",
   "mimetype": "text/x-python",
   "name": "python",
   "nbconvert_exporter": "python",
   "pygments_lexer": "ipython3",
   "version": "3.7.4"
  }
 },
 "nbformat": 4,
 "nbformat_minor": 2
}
