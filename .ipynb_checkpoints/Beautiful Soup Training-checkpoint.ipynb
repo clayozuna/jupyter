{
 "cells": [
  {
   "cell_type": "code",
   "execution_count": 36,
   "metadata": {},
   "outputs": [
    {
     "name": "stdout",
     "output_type": "stream",
     "text": [
      "<!DOCTYPE html>\n",
      "<html>\n",
      "<head>\n",
      "<meta charset=\"utf-8\"/>\n",
      "<title>Turtle Shellter</title>\n",
      "<link href=\"https://fonts.googleapis.com/css?family=Poppins\" rel=\"stylesheet\"/>\n",
      "<link href=\"style.css\" rel=\"stylesheet\" type=\"text/css\"/>\n",
      "</head>\n",
      "<body>\n",
      "<div class=\"banner\">\n",
      "<h1>The Shellter</h1>\n",
      "<span class=\"brag\">The #1 Turtle Adoption website!</span>\n",
      "</div>\n",
      "<div class=\"about\">\n",
      "<p class=\"text\">Click to learn more about each turtle</p>\n",
      "</div>\n",
      "<div class=\"grid\">\n",
      "<div class=\"box adopt\">\n",
      "<a class=\"more-info\" href=\"aesop.html\"><img class=\"headshot\" src=\"aesop.png\"/></a>\n",
      "<p>Aesop</p>\n",
      "</div>\n",
      "<div class=\"box adopt\">\n",
      "<a class=\"more-info\" href=\"caesar.html\"><img class=\"headshot\" src=\"caesar.png\"/></a>\n",
      "<p>Caesar</p>\n",
      "</div>\n",
      "<div class=\"box adopt\">\n",
      "<a class=\"more-info\" href=\"sulla.html\"><img class=\"headshot\" src=\"sulla.png\"/></a>\n",
      "<p>Sulla</p>\n",
      "</div>\n",
      "<div class=\"box adopt\">\n",
      "<a class=\"more-info\" href=\"spyro.html\"><img class=\"headshot\" src=\"spyro.png\"/></a>\n",
      "<p>Spyro</p>\n",
      "</div>\n",
      "<div class=\"box adopt\">\n",
      "<a class=\"more-info\" href=\"zelda.html\"><img class=\"headshot\" src=\"zelda.png\"/></a>\n",
      "<p>Zelda</p>\n",
      "</div>\n",
      "<div class=\"box adopt\">\n",
      "<a class=\"more-info\" href=\"bandicoot.html\"><img class=\"headshot\" src=\"bandicoot.png\"/></a>\n",
      "<p>Bandicoot</p>\n",
      "</div>\n",
      "<div class=\"box adopt\">\n",
      "<a class=\"more-info\" href=\"hal.html\"><img class=\"headshot\" src=\"hal.png\"/></a>\n",
      "<p>Hal</p>\n",
      "</div>\n",
      "<div class=\"box adopt\">\n",
      "<a class=\"more-info\" href=\"mock.html\"><img class=\"headshot\" src=\"mock.png\"/></a>\n",
      "<p>Mock</p>\n",
      "</div>\n",
      "<div class=\"box adopt\">\n",
      "<a class=\"more-info\" href=\"sparrow.html\"><img class=\"headshot\" src=\"sparrow.png\"/></a>\n",
      "<p>Captain Sparrow</p>\n",
      "</div>\n",
      "</div>\n",
      "</body>\n",
      "</html>\n",
      "\n"
     ]
    }
   ],
   "source": [
    "import requests # Library that has the information for HTML communication (Think mailman on railroad track from your house to business)\n",
    "from bs4 import BeautifulSoup as bs # BeautifulSoup goes over HTML information to find relevent info.\n",
    "\n",
    "webpage_response = requests.get('https://s3.amazonaws.com/codecademy-content/courses/beautifulsoup/shellter.html', 'html.parser') # Gets the response from the mailman (TCP)\n",
    "\n",
    "webpage = webpage_response.content # Stores the content from the requested connection to the variable\n",
    "\n",
    "#print (webpage) # Prints the \n",
    "\n",
    "soup = bs(webpage) # soup now has the readable html code. Make sure to include \"html.parser\" in the above code\n",
    "\n",
    "print(soup)\n",
    "\n",
    "\n"
   ]
  },
  {
   "cell_type": "code",
   "execution_count": null,
   "metadata": {},
   "outputs": [],
   "source": []
  }
 ],
 "metadata": {
  "kernelspec": {
   "display_name": "Python 3",
   "language": "python",
   "name": "python3"
  },
  "language_info": {
   "codemirror_mode": {
    "name": "ipython",
    "version": 3
   },
   "file_extension": ".py",
   "mimetype": "text/x-python",
   "name": "python",
   "nbconvert_exporter": "python",
   "pygments_lexer": "ipython3",
   "version": "3.7.4"
  }
 },
 "nbformat": 4,
 "nbformat_minor": 2
}
