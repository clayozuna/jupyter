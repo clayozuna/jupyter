{
 "cells": [
  {
   "cell_type": "code",
   "execution_count": 2,
   "metadata": {},
   "outputs": [],
   "source": [
    "import seaborn\n",
    "from bs4 import BeautifulSoup\n",
    "import requests\n",
    "import pandas as pd\n",
    "import matplotlib.pyplot as plt\n",
    "import numpy as np\n",
    "\n",
    "url = \"https://s3.amazonaws.com/codecademy-content/courses/beautifulsoup/cacao/index.html\"\n",
    "\n",
    "website = requests.get(url)\n",
    "#print(website)\n",
    "website_content = website.content\n",
    "#print(website_content)\n",
    "soup = BeautifulSoup(website_content, \"html.parser\")\n",
    "#print(soup.prettify())\n"
   ]
  },
  {
   "cell_type": "code",
   "execution_count": 35,
   "metadata": {},
   "outputs": [
    {
     "data": {
      "image/png": "[encoded data removed]",
      "text/plain": [
       "<Figure size 432x288 with 1 Axes>"
      ]
     },
     "metadata": {
      "needs_background": "light"
     },
     "output_type": "display_data"
    }
   ],
   "source": [
    "ratings = []\n",
    "#print(ratings)\n",
    "chocolate_ratings = soup.select(\".Rating\") # Sets the ratings with class=Rating to variable as list\n",
    "#print(chocolate_ratings)\n",
    "# Store all the ratings in a list\n",
    "for element in chocolate_ratings[1:]: # Iterates through the dictionary starting at 1 instead of 0\n",
    "  ratings.append(float(element.get_text())) # Converts rating strings into float and adds them to ratings dict\n",
    "  \n",
    "plt.hist(ratings)\n",
    "plt.show()"
   ]
  },
  {
   "cell_type": "code",
   "execution_count": null,
   "metadata": {},
   "outputs": [],
   "source": []
  },
  {
   "cell_type": "code",
   "execution_count": null,
   "metadata": {},
   "outputs": [],
   "source": [
    "import seaborn\n",
    "from bs4 import BeautifulSoup\n",
    "import requests\n",
    "import pandas as pd\n",
    "import matplotlib.pyplot as plt\n",
    "import numpy as np\n",
    "\n",
    "url = \"https://s3.amazonaws.com/codecademy-content/courses/beautifulsoup/cacao/index.html\"\n",
    "\n",
    "website = requests.get(url)\n",
    "#print(website)\n",
    "website_content = website.content\n",
    "#print(website_content)\n",
    "soup = BeautifulSoup(website_content, \"html.parser\")\n",
    "#print(soup.prettify())\n",
    "\n",
    "# Initiate Lists\n",
    "ratings = []\n",
    "companies = []\n",
    "cocoa_percentages = []\n",
    "#print(ratings)\n",
    "\n",
    "# Finds CSS elements with related classes\n",
    "chocolate_ratings = soup.select(\".Rating\")\n",
    "company = soup.select(\".Company\")\n",
    "coco_percents = soup.select(\".CocoaPercent\")\n",
    "#print(coco_percents)\n",
    "#print(chocolate_ratings)\n",
    "\n",
    "# Converts the Cocoa Percentages from string\n",
    "def percent2float(number):\n",
    "  remove_percent = number.strip(\"%\")\n",
    "  convert2int = float(remove_percent)\n",
    "  return convert2int\n",
    "\n",
    "# Store all the ratings in a list\n",
    "for element in chocolate_ratings[1:]:\n",
    "  ratings.append(float(element.get_text()))\n",
    "  \n",
    "for element in company[1:]:\n",
    "  companies.append(element.get_text())\n",
    "\n",
    "for element in coco_percents[1:]:  cocoa_percentages.append(percent2float((element.get_text())))\n",
    "\n",
    "#print(companies) \n",
    "\n",
    "# Displays a histogram of the data\n",
    "plt.hist(ratings)\n",
    "plt.show()\n",
    "\n",
    "# Places data about companies, chocolate, and percentages into a DataFrame\n",
    "dict = {'Companies':companies, 'Ratings':ratings,'CocoaPercentage':cocoa_percentages}\n",
    "df = pd.DataFrame(data=dict)\n",
    "#print(df)\n",
    "\n",
    "\n",
    "mean_rating = df.groupby('Companies').mean()\n",
    "#print(mean_rating)\n",
    "highest_companies = mean_rating.nlargest(10, \"Ratings\")\n",
    "#print(highest_companies)\n",
    "\n",
    "plt.clf()\n",
    "plt.scatter(df.CocoaPercentage,df.Ratings)\n",
    "\n",
    "\n",
    "z = np.polyfit(df.CocoaPercentage, df.Ratings, 1)\n",
    "line_function = np.poly1d(z)\n",
    "plt.plot(df.CocoaPercentage, line_function(df.CocoaPercentage), \"r--\")\n",
    "# Shows the best fit line over the scatterplot\n",
    "\n",
    "plt.show()"
   ]
  },
  {
   "cell_type": "code",
   "execution_count": null,
   "metadata": {},
   "outputs": [],
   "source": []
  }
 ],
 "metadata": {
  "kernelspec": {
   "display_name": "Python 3",
   "language": "python",
   "name": "python3"
  },
  "language_info": {
   "codemirror_mode": {
    "name": "ipython",
    "version": 3
   },
   "file_extension": ".py",
   "mimetype": "text/x-python",
   "name": "python",
   "nbconvert_exporter": "python",
   "pygments_lexer": "ipython3",
   "version": "3.7.4"
  }
 },
 "nbformat": 4,
 "nbformat_minor": 2
}
